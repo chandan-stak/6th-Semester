{
 "cells": [
  {
   "cell_type": "code",
   "execution_count": 1,
   "metadata": {},
   "outputs": [],
   "source": [
    "import csv\n",
    "\n",
    "def findS(dataset, hypothesis):\n",
    "   for i in range(len(dataset)):\n",
    "      if dataset[i][-1] == 'yes':\n",
    "         print('The tuple', i+1, 'is a positive instance.')\n",
    "         for j in range(len(hypothesis)):\n",
    "            if hypothesis[j] == '0'  or dataset[i][j] == hypothesis[j]:\n",
    "               hypothesis[j] = dataset[i][j]\n",
    "            else:\n",
    "               hypothesis[j] = '?'\n",
    "            print('The hypothesis for traning tuple',i+1,'and instance',j+1, 'is:', hypothesis)\n",
    "      elif dataset[i][-1] == 'no':\n",
    "         print('The tuple', i+1, 'is a negative instance.')\n",
    "         print('The hypothesis for traning tuple',i+1, 'is:', hypothesis)\n",
    "   return hypothesis"
   ]
  },
  {
   "cell_type": "code",
   "execution_count": 2,
   "metadata": {},
   "outputs": [],
   "source": [
    "def main():\n",
    "\n",
    "    dataset = []\n",
    "    with open('enojysport.csv', 'r') as csvfile:\n",
    "        next(csvfile)\n",
    "        for row in csv.reader(csvfile):\n",
    "            dataset.append(row)\n",
    "        print(dataset)\n",
    "    hypothesis = ['0']*len(dataset[0])\n",
    "    print('The Initial hypothesis:', hypothesis)\n",
    "    hypothesis = findS(dataset, hypothesis)\n",
    "    print('Final Hypothesis: ', hypothesis)"
   ]
  },
  {
   "cell_type": "code",
   "execution_count": 4,
   "metadata": {},
   "outputs": [
    {
     "name": "stdout",
     "output_type": "stream",
     "text": [
      "[['sunny', 'warm', 'normal', 'strong', 'warm', 'same', 'yes'], ['sunny', 'warm', 'high', 'strong', 'warm', 'same', 'yes'], ['rainy', 'cold', 'high', 'strong', 'warm', 'change', 'no'], ['sunny', 'warm', 'high', 'strong', 'cool', 'change', 'yes']]\n",
      "The Initial hypothesis: ['0', '0', '0', '0', '0', '0', '0']\n",
      "The tuple 1 is a positive instance.\n",
      "The hypothesis for traning tuple 1 and instance 1 is: ['sunny', '0', '0', '0', '0', '0', '0']\n",
      "The hypothesis for traning tuple 1 and instance 2 is: ['sunny', 'warm', '0', '0', '0', '0', '0']\n",
      "The hypothesis for traning tuple 1 and instance 3 is: ['sunny', 'warm', 'normal', '0', '0', '0', '0']\n",
      "The hypothesis for traning tuple 1 and instance 4 is: ['sunny', 'warm', 'normal', 'strong', '0', '0', '0']\n",
      "The hypothesis for traning tuple 1 and instance 5 is: ['sunny', 'warm', 'normal', 'strong', 'warm', '0', '0']\n",
      "The hypothesis for traning tuple 1 and instance 6 is: ['sunny', 'warm', 'normal', 'strong', 'warm', 'same', '0']\n",
      "The hypothesis for traning tuple 1 and instance 7 is: ['sunny', 'warm', 'normal', 'strong', 'warm', 'same', 'yes']\n",
      "The tuple 2 is a positive instance.\n",
      "The hypothesis for traning tuple 2 and instance 1 is: ['sunny', 'warm', 'normal', 'strong', 'warm', 'same', 'yes']\n",
      "The hypothesis for traning tuple 2 and instance 2 is: ['sunny', 'warm', 'normal', 'strong', 'warm', 'same', 'yes']\n",
      "The hypothesis for traning tuple 2 and instance 3 is: ['sunny', 'warm', '?', 'strong', 'warm', 'same', 'yes']\n",
      "The hypothesis for traning tuple 2 and instance 4 is: ['sunny', 'warm', '?', 'strong', 'warm', 'same', 'yes']\n",
      "The hypothesis for traning tuple 2 and instance 5 is: ['sunny', 'warm', '?', 'strong', 'warm', 'same', 'yes']\n",
      "The hypothesis for traning tuple 2 and instance 6 is: ['sunny', 'warm', '?', 'strong', 'warm', 'same', 'yes']\n",
      "The hypothesis for traning tuple 2 and instance 7 is: ['sunny', 'warm', '?', 'strong', 'warm', 'same', 'yes']\n",
      "The tuple 3 is a negative instance.\n",
      "The hypothesis for traning tuple 3 is: ['sunny', 'warm', '?', 'strong', 'warm', 'same', 'yes']\n",
      "The tuple 4 is a positive instance.\n",
      "The hypothesis for traning tuple 4 and instance 1 is: ['sunny', 'warm', '?', 'strong', 'warm', 'same', 'yes']\n",
      "The hypothesis for traning tuple 4 and instance 2 is: ['sunny', 'warm', '?', 'strong', 'warm', 'same', 'yes']\n",
      "The hypothesis for traning tuple 4 and instance 3 is: ['sunny', 'warm', '?', 'strong', 'warm', 'same', 'yes']\n",
      "The hypothesis for traning tuple 4 and instance 4 is: ['sunny', 'warm', '?', 'strong', 'warm', 'same', 'yes']\n",
      "The hypothesis for traning tuple 4 and instance 5 is: ['sunny', 'warm', '?', 'strong', '?', 'same', 'yes']\n",
      "The hypothesis for traning tuple 4 and instance 6 is: ['sunny', 'warm', '?', 'strong', '?', '?', 'yes']\n",
      "The hypothesis for traning tuple 4 and instance 7 is: ['sunny', 'warm', '?', 'strong', '?', '?', 'yes']\n",
      "Final Hypothesis:  ['sunny', 'warm', '?', 'strong', '?', '?', 'yes']\n"
     ]
    }
   ],
   "source": [
    "if __name__ == \"__main__\":\n",
    "   main()"
   ]
  },
  {
   "cell_type": "code",
   "execution_count": null,
   "metadata": {},
   "outputs": [],
   "source": []
  }
 ],
 "metadata": {
  "kernelspec": {
   "display_name": "Python 3",
   "language": "python",
   "name": "python3"
  },
  "language_info": {
   "codemirror_mode": {
    "name": "ipython",
    "version": 3
   },
   "file_extension": ".py",
   "mimetype": "text/x-python",
   "name": "python",
   "nbconvert_exporter": "python",
   "pygments_lexer": "ipython3",
   "version": "3.7.0"
  }
 },
 "nbformat": 4,
 "nbformat_minor": 2
}
