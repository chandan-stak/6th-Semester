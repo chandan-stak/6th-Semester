{
 "cells": [
  {
   "cell_type": "code",
   "execution_count": 1,
   "metadata": {},
   "outputs": [],
   "source": [
    "def findS(dataset, hypothesis, n, a):\n",
    "   for i in range(len(dataset)):\n",
    "      if dataset[i][-1] == 'yes':\n",
    "         print('The tuple', i+1, 'is a positive instance.')\n",
    "         for j in range(n):\n",
    "            if hypothesis[j] == '0'  or dataset[i][j] == hypothesis[j]:\n",
    "               hypothesis[j] = dataset[i][j]\n",
    "            else:\n",
    "               hypothesis[j] = '?'\n",
    "            print('The hypothesis for traning tuple',i+1,'and instance',j+1, 'is:', hypothesis)\n",
    "      elif dataset[i][-1] == 'no':\n",
    "         print('The tuple', i+1, 'is a negative instance.')\n",
    "         print('The hypothesis for traning tuple',i+1,'and instance',j+1, 'is:', hypothesis)\n",
    "   return hypothesis"
   ]
  },
  {
   "cell_type": "code",
   "execution_count": 2,
   "metadata": {},
   "outputs": [],
   "source": [
    "def main():\n",
    "   n = int(input('Enter total no of attributes:'))\n",
    "   a = int(input('Enter total no of training tuple:'))\n",
    "   hypothesis = ['0']*n\n",
    "   print('The Initial hypothesis:', hypothesis)\n",
    "   dataset = []\n",
    "   print('Enter {} training tuple:'.format(a))   \n",
    "   for i in range(a):\n",
    "      l = list(map(str, input().split()))\n",
    "      dataset.append(l)\n",
    "   hypothesis = findS(dataset, hypothesis, n, a)\n",
    "   print('Final Hypothesis: ', hypothesis)"
   ]
  },
  {
   "cell_type": "code",
   "execution_count": 3,
   "metadata": {},
   "outputs": [
    {
     "name": "stdout",
     "output_type": "stream",
     "text": [
      "Enter total no of attributes:6\n",
      "Enter total no of training tuple:4\n",
      "The Initial hypothesis: ['0', '0', '0', '0', '0', '0']\n",
      "Enter 4 training tuple:\n",
      "sunny   warm    normal  strong  warm    same    yes\n",
      "sunny   warm    high    strong  warm    same    yes\n",
      "rainy   cold    high    strong  warm    change  no\n",
      "sunny   warm    high    strong  cool    change  yes\n",
      "The tuple 1 is a positive instance.\n",
      "The hypothesis for traning tuple 1 and instance 1 is: ['sunny', '0', '0', '0', '0', '0']\n",
      "The hypothesis for traning tuple 1 and instance 2 is: ['sunny', 'warm', '0', '0', '0', '0']\n",
      "The hypothesis for traning tuple 1 and instance 3 is: ['sunny', 'warm', 'normal', '0', '0', '0']\n",
      "The hypothesis for traning tuple 1 and instance 4 is: ['sunny', 'warm', 'normal', 'strong', '0', '0']\n",
      "The hypothesis for traning tuple 1 and instance 5 is: ['sunny', 'warm', 'normal', 'strong', 'warm', '0']\n",
      "The hypothesis for traning tuple 1 and instance 6 is: ['sunny', 'warm', 'normal', 'strong', 'warm', 'same']\n",
      "The tuple 2 is a positive instance.\n",
      "The hypothesis for traning tuple 2 and instance 1 is: ['sunny', 'warm', 'normal', 'strong', 'warm', 'same']\n",
      "The hypothesis for traning tuple 2 and instance 2 is: ['sunny', 'warm', 'normal', 'strong', 'warm', 'same']\n",
      "The hypothesis for traning tuple 2 and instance 3 is: ['sunny', 'warm', '?', 'strong', 'warm', 'same']\n",
      "The hypothesis for traning tuple 2 and instance 4 is: ['sunny', 'warm', '?', 'strong', 'warm', 'same']\n",
      "The hypothesis for traning tuple 2 and instance 5 is: ['sunny', 'warm', '?', 'strong', 'warm', 'same']\n",
      "The hypothesis for traning tuple 2 and instance 6 is: ['sunny', 'warm', '?', 'strong', 'warm', 'same']\n",
      "The tuple 3 is a negative instance.\n",
      "The hypothesis for traning tuple 3 and instance 6 is: ['sunny', 'warm', '?', 'strong', 'warm', 'same']\n",
      "The tuple 4 is a positive instance.\n",
      "The hypothesis for traning tuple 4 and instance 1 is: ['sunny', 'warm', '?', 'strong', 'warm', 'same']\n",
      "The hypothesis for traning tuple 4 and instance 2 is: ['sunny', 'warm', '?', 'strong', 'warm', 'same']\n",
      "The hypothesis for traning tuple 4 and instance 3 is: ['sunny', 'warm', '?', 'strong', 'warm', 'same']\n",
      "The hypothesis for traning tuple 4 and instance 4 is: ['sunny', 'warm', '?', 'strong', 'warm', 'same']\n",
      "The hypothesis for traning tuple 4 and instance 5 is: ['sunny', 'warm', '?', 'strong', '?', 'same']\n",
      "The hypothesis for traning tuple 4 and instance 6 is: ['sunny', 'warm', '?', 'strong', '?', '?']\n",
      "Final Hypothesis:  ['sunny', 'warm', '?', 'strong', '?', '?']\n"
     ]
    }
   ],
   "source": [
    "if __name__ == \"__main__\":\n",
    "   main()"
   ]
  },
  {
   "cell_type": "code",
   "execution_count": null,
   "metadata": {},
   "outputs": [],
   "source": []
  }
 ],
 "metadata": {
  "kernelspec": {
   "display_name": "Python 3",
   "language": "python",
   "name": "python3"
  },
  "language_info": {
   "codemirror_mode": {
    "name": "ipython",
    "version": 3
   },
   "file_extension": ".py",
   "mimetype": "text/x-python",
   "name": "python",
   "nbconvert_exporter": "python",
   "pygments_lexer": "ipython3",
   "version": "3.7.0"
  }
 },
 "nbformat": 4,
 "nbformat_minor": 2
}
